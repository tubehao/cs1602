{
 "cells": [
  {
   "cell_type": "markdown",
   "metadata": {},
   "source": [
    "## 本次作业目标\n",
    "1. 学会使用Jupyter Notebook做笔记：利用markdown记笔记，以及如何在Jupyter中运行python代码。请查看OC上面的攻略\n",
    "2. 完成如下和lecture2-3相关的作业：先自己思考，不会的可以看参考答案\n",
    "3. 如下作业，能够正确输出结果就是成功。先用自己的思路去解决问题。\n"
   ]
  },
  {
   "cell_type": "markdown",
   "metadata": {},
   "source": [
    "## 1. Contain Square(Yifei Zhang)\n",
    "Given a rectangle with length l and width w, calculate how many squares can put in it. The length of squares are same, and any two squares should not overlap.\n",
    "### Input\n",
    "three integer l, w, a(square length)\n",
    "### Output\n",
    "a integer\n",
    "### Samples\n",
    "#### Example1\n",
    "In: l=3, w=4, a=1\n",
    "\n",
    "Out: 12"
   ]
  },
  {
   "cell_type": "markdown",
   "metadata": {},
   "source": [
    "## 2. Swap numbers (Chuanming Liu)\n",
    "\n",
    "### Description\n",
    "\n",
    "You already know how to exchange the values of two numbers $x$ and $y$. You can directly use \n",
    "```\n",
    "x, y = y, x\n",
    "```\n",
    "Can you propose other methods without introducing the third variables?\n",
    "\n",
    "### Note\n",
    "\n",
    "You may consider encoding the info of $x$ in $y$， then decode it.\n",
    "\n",
    "### Input:\n",
    "0 <= $x, y$ < 2000, $x, y$ are both integers\n",
    "\n",
    "### Output\n",
    "Do modification in place. Return nothing.\n",
    "\n"
   ]
  },
  {
   "cell_type": "markdown",
   "metadata": {},
   "source": [
    "## 3. Output Digit(Meichao Luo)\n",
    "  \n",
    "## Description\n",
    "\n",
    "Given an integer $n$ and an int $index$, return the $i^{th}$ digit of $n$. The leftmost digit is considered the $0^{th}$ digit.\n",
    "\n",
    "### Input \n",
    "integer $n$, \n",
    "integer  $0 <= i < len(str(n))-1$\n",
    "\n",
    "### Output\n",
    "An integer m\n",
    "\n",
    "### Samples\n",
    "#### Example1\n",
    "IN: 273465019, 5\n",
    "\n",
    "OUT: 5\n",
    "\n",
    "#### Example2\n",
    "IN: 12, 1\n",
    "\n",
    "OUT: 2\n",
    "\n",
    "#### Example3\n",
    "IN: 1291321839, 4\n",
    "OUT: 3\n"
   ]
  },
  {
   "cell_type": "markdown",
   "metadata": {},
   "source": [
    "## 4. Even or Not(Meichao Luo)\n",
    "### Description\n",
    "Given a float 'n', return a bool 'm' represents whether the last digit of 'n' is even or odd (namely whether 'n' is even or odd)\n",
    "### Input\n",
    "A float 'n'\n",
    "### Output\n",
    "A boolean 'm'\n",
    "\n",
    "### Note\n",
    "You can consider 'n' as 'x.xxxxx..', namely there is only one number (0-9) before '.' \n",
    "\n",
    "### Samples\n",
    "#### Example1\n",
    "IN:2.73\n",
    "\n",
    "OUT: False\n",
    "\n",
    "#### Example2\n",
    "IN: 8.9654\n",
    "\n",
    "OUT: True"
   ]
  },
  {
   "cell_type": "markdown",
   "metadata": {},
   "source": [
    "## 5. Digit Swap(Kaipeng Zeng)\n",
    "\n",
    "### Description\n",
    "Given a N decimal number $T$, swap the $i$-th digit and $j$-th digit. \n",
    "The leftmost digit is considered the $0^{th}$ digit.\n",
    "\n",
    "### Input\n",
    "Three integer $T$, $i$, $j$. We promise $0\\le i, j \\le N-1$.\n",
    "\n",
    "### Samples\n",
    "#### Example1\n",
    "IN: 12223442, 2, 5\n",
    "\n",
    "OUT: 12423242\n",
    "\n",
    "#### Example2\n",
    "IN: 1210998452, 1, 3\n",
    "\n",
    "OUT: 1012998452\n",
    "\n",
    "#### Example3\n",
    "IN: 670726284, 6, 7\n",
    "\n",
    "OUT: 670726824\n",
    "\n",
    "#### Example4\n",
    "IN: 11484369, 3, 3\n",
    "\n",
    "OUT: 11484369\n",
    "\n",
    "#### Example5\n",
    "IN: 1067680477, 3, 0\n",
    "\n",
    "OUT: 7061680477"
   ]
  },
  {
   "cell_type": "markdown",
   "metadata": {},
   "source": [
    "## 6. Reverse String(Yifei Zhang)\n",
    "Given a string, reverse all characters in it.\n",
    "### Input\n",
    "A string s1.\n",
    "### Output\n",
    "A string s2.\n",
    "### Note\n",
    "1 <= len(s1) <= 100\n",
    "### Samples\n",
    "#### Example1\n",
    "IN: \"abc\"\n",
    "\n",
    "OUT: \"cba\"\n"
   ]
  },
  {
   "cell_type": "markdown",
   "metadata": {},
   "source": [
    "## 7. Add Octal(Yifei Zhang)\n",
    "Given two octal strings, return their sum (also a binary string).\n",
    "\n",
    "The input strings are both non-empty and contains only characters 7, 6, 5, 4, 3, 2, 1 or 0.\n",
    "### Input \n",
    "Two string: s1 s2\n",
    "### Output\n",
    "A string\n",
    "\n",
    "### Samples\n",
    "\n",
    "#### Example1\n",
    "In: s1='16', s2='3'\n",
    "\n",
    "Out: '21'"
   ]
  },
  {
   "cell_type": "markdown",
   "metadata": {},
   "source": [
    "## 8. Modify the Sentence(Yifei Zhang)\n",
    "Given a sentence with redundant blank space, modify it by delete all redundant blank space.\n",
    "### Input \n",
    "A string s\n",
    "### Output\n",
    "A string\n",
    "### Samples\n",
    "#### Example1\n",
    "Input: SJTU stands   for  Shanghai Jiao   Tong University\n",
    "\n",
    "Output: SJTU stands for Shanghai Jiao Tong University\n",
    "#### Hint\n",
    "Use function string.split and ''.join"
   ]
  },
  {
   "cell_type": "markdown",
   "metadata": {},
   "source": [
    "## 9. Bit Inverse(Meichao Luo)\n",
    "### Description\n",
    "Given an integer 'n', return an integer 'm' such that in their binary, 'm'2 is the in inverse order of 'n'2.\n",
    "\n",
    "### Input\n",
    "An int 'n'\n",
    "\n",
    "### Output\n",
    "An int 'm'\n",
    "\n",
    "### Note\n",
    "We assume 'n' and 'm' is samller than 2^9. This means in binary, all the binary array are padded to 10 by 0 (10111 -> 0000010111)\n",
    "\n",
    "### Samples\n",
    "#### Example1\n",
    "IN: 8\n",
    "\n",
    "OUT: 64\n",
    "\n",
    "#### Example2\n",
    "IN: 2\n",
    "\n",
    "OUT: 256\n",
    "\n",
    "#### Example3\n",
    "IN: 100\n",
    "\n",
    "OUT: 152\n",
    "\n",
    "#### Example4\n",
    "IN: 37\n",
    "\n",
    "OUT: 656\n"
   ]
  },
  {
   "cell_type": "markdown",
   "metadata": {},
   "source": [
    "## 10.Get familar with Python 3's f-Strings (Chuanming Liu)\n",
    "\n",
    "### Description\n",
    "\n",
    "Probably you have got yourself familar with how to format print() by using .format() in lecture 2-3. Also, you can use eval() to interpret strings to Python expression. \n",
    "\n",
    "However,  there is another method that is much easier to do all these same things in practice. In this part, We are going to get familar with  f-Strings in Python 3.\n",
    "\n",
    "You can find more details in:\n",
    "- [PEP 498 -- Literal String Interpolation](https://www.python.org/dev/peps/pep-0498/)\n",
    "\n",
    "- [Python 3's f-Strings: An Improved String Formatting Syntax (Guide)](https://realpython.com/python-f-strings/)\n",
    "\n",
    "The followings are some examples. \n",
    "\n",
    "### Examples\n",
    "\n"
   ]
  },
  {
   "cell_type": "code",
   "execution_count": 6,
   "metadata": {},
   "outputs": [
    {
     "data": {
      "text/plain": [
       "'Hello, Alice. You are 121.'"
      ]
     },
     "execution_count": 6,
     "metadata": {},
     "output_type": "execute_result"
    }
   ],
   "source": [
    "# notice the 'f' before string\n",
    "name = \"Alice\"\n",
    "age = 121\n",
    "f\"Hello, {name}. You are {age}.\""
   ]
  },
  {
   "cell_type": "code",
   "execution_count": 7,
   "metadata": {},
   "outputs": [
    {
     "data": {
      "text/plain": [
       "'Hello, Alice. You are 121.'"
      ]
     },
     "execution_count": 7,
     "metadata": {},
     "output_type": "execute_result"
    }
   ],
   "source": [
    "# capital letter F is also valid\n",
    "F\"Hello, {name}. You are {age}.\""
   ]
  },
  {
   "cell_type": "code",
   "execution_count": 8,
   "metadata": {},
   "outputs": [
    {
     "data": {
      "text/plain": [
       "'74'"
      ]
     },
     "execution_count": 8,
     "metadata": {},
     "output_type": "execute_result"
    }
   ],
   "source": [
    "# arbitrary expressions\n",
    "f\"{2 * 37}\""
   ]
  },
  {
   "cell_type": "code",
   "execution_count": 9,
   "metadata": {},
   "outputs": [
    {
     "data": {
      "text/plain": [
       "'john wick is here.'"
      ]
     },
     "execution_count": 9,
     "metadata": {},
     "output_type": "execute_result"
    }
   ],
   "source": [
    "# call functions\n",
    "def to_lowercase(input):\n",
    "    return input.lower()\n",
    "name = \"John Wick\"\n",
    "f\"{to_lowercase(name)} is here.\""
   ]
  },
  {
   "cell_type": "code",
   "execution_count": 10,
   "metadata": {
    "scrolled": true
   },
   "outputs": [
    {
     "data": {
      "text/plain": [
       "'john wick is here.'"
      ]
     },
     "execution_count": 10,
     "metadata": {},
     "output_type": "execute_result"
    }
   ],
   "source": [
    "# directly call a function is also ok.\n",
    "name = \"John Wick\"\n",
    "f\"{name.lower()} is here.\""
   ]
  },
  {
   "cell_type": "markdown",
   "metadata": {},
   "source": [
    "**Now, it's your turn to implement a function.**\n",
    "\n",
    "Use **f-string** to calculate the area of a circle.\n",
    "\n",
    "hints: math.pi\n",
    "\n",
    "For example:\\\n",
    "The radius of a given circle is 0.5,\\\n",
    "you should design a function calculate the aera and use f-string to invoke it.\n",
    "\n",
    "output format:\\\n",
    "\"The aera of the circle is: 0.785\""
   ]
  },
  {
   "cell_type": "markdown",
   "metadata": {},
   "source": [
    "## 11. Float and Decimal(Chuanming Liu)\n",
    "\n",
    "You should already know the **float point** data type.\n",
    "\n",
    "let's check.\n",
    "\n",
    "Predict the result before you run the following code.\n",
    "\n",
    "After you get the result, analyze it."
   ]
  },
  {
   "cell_type": "code",
   "execution_count": 2,
   "metadata": {},
   "outputs": [
    {
     "name": "stdout",
     "output_type": "stream",
     "text": [
      "False\n"
     ]
    }
   ],
   "source": [
    "a = 0.1\n",
    "b = 0.2\n",
    "c = 0.3\n",
    "print(a + b == c)"
   ]
  },
  {
   "cell_type": "markdown",
   "metadata": {},
   "source": [
    "Learn to use **Decimal**.\n",
    "\n",
    "You may not be familar with **Decimal**.\n",
    "\n",
    "It's ok.\n",
    "\n",
    "It is significantly important but easy to use, just like you learn to use  **math**.\n",
    "\n",
    "\n",
    "More details on Decimal: https://docs.python.org/3.8/library/decimal.html"
   ]
  },
  {
   "cell_type": "code",
   "execution_count": 4,
   "metadata": {},
   "outputs": [
    {
     "name": "stdout",
     "output_type": "stream",
     "text": [
      "True\n"
     ]
    }
   ],
   "source": [
    "from decimal import Decimal\n",
    "a = 0.1\n",
    "b = 0.2\n",
    "c = 0.3\n",
    "print(Decimal(str(a)) + Decimal(str(b)) == Decimal(str(c)))"
   ]
  },
  {
   "cell_type": "markdown",
   "metadata": {},
   "source": []
  },
  {
   "cell_type": "markdown",
   "metadata": {},
   "source": [
    "## 12. Remove the Last One(Kaipeng Zeng)\n",
    "### Description\n",
    "Given a decimal number, you need to remove the last one its binary representation. For example, the binary representation of 5 is 0b101 and after removing the last one, we will have 0b100, which is 4.\n",
    "### Input\n",
    "An positive integer\n",
    "### Output\n",
    "The integer after removing the last one.\n",
    "### Sample Input\n",
    "6\n",
    "### Sample Output\n",
    "4\n",
    "### Hint\n",
    "In the memory of computer, the integers are always stored in form of complement codes. Here is the necessary knowledge for this problem.\n",
    "- Original Code: The original code of a signed integer is a combination of a sign bit and its binary representation. The sign bit is 1 if and only if the integer is negative, otherwise it's 0.\n",
    "- Inverse Code:\n",
    " - The inverse code of a positive integer is its original code\n",
    " - To get the inverse code of a negative integer, you are supposed to take inversion (change 0 to 1 and change 1 to 0) to every bits of its original code except the sign bit.\n",
    "- Two's Complement Representation\n",
    " - The two's complement representation of a positive integer is its original code\n",
    " - The two's complement representation of a negative integer is result of its inverse code plus one.\n",
    "- \\& operation: do \\& operation for two integers means take operation to every bit of its binary representation. For example, 5 = '101', 3 = '011', 5 \\& 3 = '001' = 1.\n",
    "- Take careful observation of the Two's Complement Representation of the integer and its opposite number, you will have the answer."
   ]
  },
  {
   "cell_type": "markdown",
   "metadata": {},
   "source": [
    "### Samples\n",
    "#### Example1\n",
    "IN: 5\n",
    "\n",
    "OUT: 4\n",
    "\n",
    "#### Example2\n",
    "IN: 6\n",
    "\n",
    "OUT: 4\n",
    "\n",
    "#### Example3\n",
    "IN: 11\n",
    "\n",
    "OUT: 10\n",
    "\n",
    "#### Example4\n",
    "IN: 18\n",
    "\n",
    "OUT: 16\n",
    "\n",
    "#### Example5\n",
    "IN: 17924\n",
    "\n",
    "OUT: 17920"
   ]
  },
  {
   "cell_type": "markdown",
   "metadata": {},
   "source": [
    "## 13. Pyramid of Star(Xiaoyi Bao)\n",
    "### Description\n",
    "Given an odd number $N$, use star character * to create a pyramid of $N$ rows.\n",
    "The $i$ row has $2 * i - 1$ * .\n",
    "Stars in all rows are aligned in the center.\n",
    "You are given $N=4$. Write codes to print the pyramid.\n",
    "\n",
    "### Input\n",
    "None\n",
    "\n",
    "### Output\n",
    "print a paramid of 4 rows\n",
    "The $i$ row has $2i - 1$ \\* .\n",
    "Stars in all rows are aligned in the center."
   ]
  },
  {
   "cell_type": "markdown",
   "metadata": {},
   "source": [
    "### SAMPLES\n",
    "\n",
    "#### Example1\n",
    "\n",
    "IN: \n",
    "\n",
    "OUT: \n",
    "```\n",
    "   *\n",
    "  ***\n",
    " *****\n",
    "*******\n",
    "```\n",
    "\n",
    "\n",
    "\n"
   ]
  },
  {
   "cell_type": "markdown",
   "metadata": {},
   "source": [
    "## 14. Distance of letters(Yanming Liu)\n",
    "### Description\n",
    "Given two lowercase letters $chr1$ and $chr2$, find their distance $d$ on the alphabet.\n",
    "### Input\n",
    "Two lowercase letters $chr1$, $chr2$.\n",
    "### Output\n",
    "A positive integer $d$.\n",
    "\n",
    "### Samples\n",
    "#### Example 1\n",
    "\n",
    "IN: \n",
    "\n",
    "$chr1$='g'<br/> $chr2$='d'\n",
    "\n",
    "OUT:3\n",
    "#### Example 2\n",
    "IN: \n",
    "\n",
    "$chr1$ = 'a' <br/> $chr2$ = 'z' \n",
    "\n",
    "OUT: 25"
   ]
  },
  {
   "cell_type": "markdown",
   "metadata": {},
   "source": [
    "## 15. Character Distance(Luhua Jin)\n",
    "### Description\n",
    "Given two characters $c1$ and $c2$. If they have the same type(number, uppercase letter or lowercase letter), return their distance in ACSII. Otherwise, return False.\n",
    "\n",
    "### Input\n",
    "Two characters $c1$ and $c2$\n",
    "\n",
    "### Output\n",
    "An integer\n",
    "\n",
    "### Note\n",
    "$c1$ and $c2$ must be \"0\"-\"9\", \"A\"-\"Z\" or \"a\"-\"z\"\n",
    "\n",
    "The distance is always nonnegative if exists.\n",
    "\n",
    "#### Example1\n",
    "IN: \"c\", \"a\"\n",
    "\n",
    "OUT: 2\n",
    "\n",
    "\n",
    "#### Example 2\n",
    "IN: \"a\", \"c\"\n",
    "\n",
    "OUT: 2\n",
    "\n",
    "#### Example3\n",
    "IN: \"A\", \"a\"\n",
    "\n",
    "OUT: False\n",
    "\n",
    "\n",
    "#### Example4\n",
    "IN: \"a\", \"2\"\n",
    "\n",
    "OUT: False\n"
   ]
  },
  {
   "cell_type": "markdown",
   "metadata": {},
   "source": [
    "## 16. Float Split(Yanming Liu)\n",
    "### Description\n",
    "Give you a float $x$, you need to find an integer $p$ and a float $q$ such that $x=p+q$ and $0\\leq q < 1$.\n",
    "### Input\n",
    "A float $x$\n",
    "### Output\n",
    "A tuple $(p, q)$\n",
    "### Note\n",
    "Tolerate float point error ($<1e-6$). <br/>\n",
    "$-100 < x < 100$\n",
    "\n",
    "#### Example1\n",
    "IN: 3.4\n",
    "\n",
    "OUT: (3, 0.4)\n",
    "\n",
    "\n",
    "#### Example 2\n",
    "IN: -1.9\n",
    "\n",
    "OUT: (-2, 0.1)\n",
    "\n",
    "#### Example3\n",
    "IN: 4.0\n",
    "\n",
    "OUT: (4, 0.0)\n"
   ]
  },
  {
   "cell_type": "markdown",
   "metadata": {},
   "source": [
    "## 17. Leap Year(Luhua Jin)\n",
    "### Description\n",
    "Given an positive integer which represents a year. Judge whether it is a leap year.\n",
    "\n",
    "### Input\n",
    "An integer $year$\n",
    "\n",
    "### Output\n",
    "A boolean value\n",
    "\n",
    "### Samples\n",
    "#### Example1\n",
    "IN: 1997\n",
    "\n",
    "OUT: False\n",
    "\n",
    "\n",
    "#### Example 2\n",
    "IN: 2008\n",
    "\n",
    "OUT: True\n",
    "\n",
    "#### Example3\n",
    "IN: 1000\n",
    "\n",
    "OUT: False\n",
    "\n",
    "\n",
    "#### Example4\n",
    "IN: 2000\n",
    "\n",
    "OUT: True\n",
    "\n"
   ]
  },
  {
   "cell_type": "markdown",
   "metadata": {},
   "source": [
    "## 18. Number of digits(Yanming Liu)\n",
    "Given a positive integer $n$, find the number of bits in its binary representation.\n",
    "### Input\n",
    "A positive integer $n$\n",
    "### Output\n",
    "The number of bits.\n",
    "### Note\n",
    "$1\\leq n \\leq 10^8$\n",
    "\n",
    "### Samples\n",
    "#### Example1\n",
    "IN: 5\n",
    "\n",
    "OUT: 3\n",
    "\n",
    "\n",
    "#### Example 2\n",
    "IN: 12345\n",
    "\n",
    "OUT: 14"
   ]
  },
  {
   "cell_type": "markdown",
   "metadata": {},
   "source": [
    "## 19. Midsquare(Yanming Liu)\n",
    "### Description\n",
    "Given you a positive integer $n$ with $2s$ digits. And then $n^2$ is a $4s$ digits integer (if less than $4s$ digits, add zeros in the high digit). Find the middle $2s$ digits of the $4s$ digits integer $n^2$.\n",
    "### Input\n",
    "A positive integer $n$.\n",
    "### Output\n",
    "A $2s$ digits integer. \n",
    "### Note \n",
    "$10\\leq n < 10^9$"
   ]
  },
  {
   "cell_type": "markdown",
   "metadata": {},
   "source": [
    "## 20. Chicks and Rabbits(Xiaoyi Bao)\n",
    "### Description\n",
    "\n",
    "Tom keeps chicks and rabbits on the farm. He knows that these animals have a total number of $a$ heads, and a total number of $b$ feet. How many chicks are there on the farm?\n",
    "\n",
    "### Input\n",
    "interger $a$ representing the number of heads.\n",
    "\n",
    "interger $b$ representing the number of feet\n",
    "\n",
    "### Output\n",
    "an integer that represents the number of chicks\n",
    "\n",
    "### Samples\n",
    "#### Example1\n",
    "IN: $a$ = 1, $b$ = 4\n",
    "\n",
    "OUT: 0\n",
    "\n",
    "#### Example2:\n",
    "IN: $a$ = 2, $b$ = 4\n",
    "\n",
    "OUT: 2\n",
    "\n",
    "#### Example3:\n",
    "IN: $a$ = 9, $b$ = 24\n",
    "\n",
    "OUT: 6"
   ]
  },
  {
   "cell_type": "markdown",
   "metadata": {},
   "source": [
    "### Example 1\n",
    "#### Input\n",
    "$n=45$\n",
    "#### Output\n",
    "2\n",
    "#### Explanation\n",
    "$45^2=2025$, the middle $2s$ digits are $02$, so return $2$ \n",
    "### Example 2\n",
    "#### Input\n",
    "$n=2222$\n",
    "#### Output\n",
    "9372\n",
    "#### Explanation\n",
    "$2222^2=(0)4937284$, the middle $4$ digits are $9372$\n",
    "### Example 3\n",
    "#### Input\n",
    "$n=67$\n",
    "#### Output\n",
    "48 \n",
    "#### Explanation\n",
    "$67^2=4489$"
   ]
  },
  {
   "cell_type": "markdown",
   "metadata": {},
   "source": [
    "## 21. Consecutive 6(Xiaoyi Bao)\n",
    "\n",
    "### Description\n",
    "You have a dice which has number 1, 2, 3, 4, 5, 6 on each face. \n",
    "\n",
    "Throw it for three times, return the probablity that you have at least two consecutive 6 as outcome.\n",
    "\n",
    "### Input\n",
    "None\n",
    "\n",
    "### Output\n",
    "A float number between 0 or 1.\n",
    "\n",
    "### Note\n",
    "\n",
    "Your answer is considered correct as long as it is no more than 1e-3 to the standard answer"
   ]
  },
  {
   "cell_type": "markdown",
   "metadata": {},
   "source": [
    "## 22. Euler(Kaipeng Zeng)\n",
    "\n",
    "### Description\n",
    "We have the Euler's formula $e^{ix}=\\cos x + i\\sin x$, where $i^2=-1$. Now given $x$, you are supposed to represent $e^{ix}$ in form of $a + b * i$. \n",
    "\n",
    "### Input\n",
    "A number $x$\n",
    "\n",
    "### Output\n",
    "A string like \"a + b * i\"\n",
    "\n",
    "The a and b should be round to three decimal places and the answer shoule be given in form of string.\n"
   ]
  },
  {
   "cell_type": "markdown",
   "metadata": {},
   "source": [
    "### Samples\n",
    "#### Example1\n",
    "IN: 0\n",
    "\n",
    "OUT: \"1.000 + 0.000 * i\"\n",
    "\n",
    "#### Example2\n",
    "IN: 1.0810810810810811\n",
    "\n",
    "OUT: \"0.470 + 0.882 * i\"\n",
    "\n",
    "#### Example3\n",
    "IN: 0.08243243243243244\n",
    "\n",
    "OUT: \"0.997 + 0.082 * i\"\n",
    "\n",
    "#### Example4\n",
    "IN: 1.1945945945945946\n",
    "\n",
    "OUT: \"0.437 + 0.900 * i\"\n",
    "\n",
    "#### Example5\n",
    "IN: 1.1945945945945946\n",
    "\n",
    "OUT: \"0.367 + 0.930 * i\""
   ]
  },
  {
   "cell_type": "markdown",
   "metadata": {},
   "source": [
    "## 23. Form Triangle(Luhua Jin)\n",
    "### Description\n",
    "Given the length of three lines and judge whether these three lines can form a triangle.\n",
    "\n",
    "### Input\n",
    "A list of three intergers $line$\n",
    "\n",
    "### Output\n",
    "A boolean value\n",
    "\n",
    "### Samples\n",
    "#### Example1\n",
    "IN: [3, 4, 5]\n",
    "\n",
    "OUT: True\n",
    "\n",
    "#### Example2\n",
    "IN: [1, 1, 2]\n",
    "\n",
    "OUT: False\n"
   ]
  },
  {
   "cell_type": "markdown",
   "metadata": {},
   "source": [
    "## 24. Area of Triangle(Luhua Jin)\n",
    "### Description\n",
    "Given the length of three sides of an triangle, and calculate its area. \n",
    "\n",
    "### Input\n",
    "A list of three intergers $line$\n",
    "\n",
    "### Output\n",
    "The area of the triangle\n",
    "\n",
    "### Note\n",
    "The input must be valid, which means they can always form a triagnle.\n",
    "\n",
    "\n",
    "### Samples\n",
    "#### Example1\n",
    "IN: [3, 4, 5]\n",
    "\n",
    "OUT: 6\n"
   ]
  },
  {
   "cell_type": "markdown",
   "metadata": {},
   "source": [
    "## 25. Area of Triangle(Kaipeng Zeng)\n",
    "### Description\n",
    "Given $x_1, y_1, x_2, y_2, x_3, y_3$, representing the positions of three points on a plane. Now you are supposed to calculate the area of the triangle using these points as vertexs.\n",
    "\n",
    "### Input\n",
    "$x_1, y_1, x_2, y_2, x_3, y_3$ are all\n",
    "Assume $(x_1, y_1), (x_2, y_2), (x_3, y_3)$ can always form a triangle.\n",
    "\n",
    "### Output\n",
    "The area of thetriangle\n",
    "\n",
    "### Note \n",
    "Considering the errors during the storage and calculation of float numbers, your answer is considered as \"correct\" if the difference between your answer and the standard answer is no more than $10^{-4}$,"
   ]
  },
  {
   "cell_type": "markdown",
   "metadata": {},
   "source": [
    "### Samples\n",
    "#### Example1\n",
    "IN: 0 0 1 0 0 1\n",
    "\n",
    "OUT: 0.5\n",
    "\n",
    "#### Example2\n",
    "IN: 0.55, 4.665, 1.68, 2.375, 3.78, 2.91\n",
    "\n",
    "OUT: 2.7067749999999995\n",
    "\n",
    "#### Example3\n",
    "IN: 5.985, 4.265, 0.14, 6.085, 0.375, 6.24\n",
    "\n",
    "OUT: 0.6668375000000007\n",
    "\n",
    "#### Example4\n",
    "IN: 6.31, 3.505, 1.2, 1.47, 1.355, 0.415\n",
    "\n",
    "OUT: 2.8532374999999996\n",
    "\n",
    "#### Example5\n",
    "IN: 6.095, 7.16, 0.76, 4.655, 1.315, 5.115\n",
    "\n",
    "OUT: 0.5319125000000001"
   ]
  },
  {
   "cell_type": "markdown",
   "metadata": {},
   "source": [
    "## 26. Square root of a positive number(Chuanming Liu)\n",
    "### Description\n",
    "\n",
    "In lecture2-3, you should get used to apply math.sqrt to calculate the square root of a positive number.\n",
    "\n",
    "Try to do the same thing without using *math.sqrt*. The more methods, the better."
   ]
  },
  {
   "cell_type": "markdown",
   "metadata": {},
   "source": [
    "## 27. Alternate Case String(Xiaoyi Bao)\n",
    "\n",
    "### Description\n",
    "Given a string of length 5 which is composed of alphabets only. You are going to make the case of each character alternate without changing its content.\n",
    "For example, \"Ab\" and \"aB\" are considered to be of the same content.\n",
    "\n",
    "### Input\n",
    "A string of length 5 which is composed of characters in alphabet only. Each character should be one in \"abcd...xyz\".\n",
    "\n",
    "\n",
    "### Output\n",
    "A new string with the same content as the original one. However, the case of each character alternate. The first character in the new string is upper-case.\n",
    "\n",
    "### Note\n",
    "We can not directly modify a string in Python. Please return a new string."
   ]
  },
  {
   "cell_type": "markdown",
   "metadata": {},
   "source": [
    "### SAMPLES\n",
    "\n",
    "#### Example1\n",
    "IN: \"Hello\"\n",
    "\n",
    "OUT: \"HeLlO\"\n",
    "\n",
    "#### Example2\n",
    "IN: \"OCTAL\"\n",
    "\n",
    "OUT: \"OcTaL\"\n",
    "\n"
   ]
  },
  {
   "cell_type": "markdown",
   "metadata": {},
   "source": [
    "## 28. Problem 1 (Sen Li)\n",
    "Convert polar coordinates to rectangular coordinates\n",
    "The first input is the radial distance from the origin, and the second is the counterclockwise angle from the x-axis.\n",
    "\n",
    "Example\n",
    "```\n",
    "Input: 1, 1\n",
    "Output: 0.5403023058681398, 0.8414709848078965\n",
    "```\n"
   ]
  },
  {
   "cell_type": "markdown",
   "metadata": {},
   "source": [
    "## 29. Problem 2 (Sen Li)\n",
    "Given an array and two indexes, swap the integers on the two indices.\n",
    "\n",
    "Example\n",
    "```\n",
    "Input: `[1,2,3,4]` and index1 = `2`, index2 = `3`\n",
    "Output:The array will change to `[1,2,4,3]` after swapping. You don't need return anything, just swap the integers in-place.\n",
    "Explanation: You don't need return anything, just swap the integers in-place.\n",
    "```"
   ]
  },
  {
   "cell_type": "markdown",
   "metadata": {},
   "source": [
    "## 30. Problem 3(Sen Li)\n",
    "Calculate the derivative of the function $f(x)$ and the difference between your answer and the standard answer is no more than 0.001\n",
    "\n",
    "Assume that $f(x)$ is unknown and you cannot use derivative function\n",
    "\n",
    "Example\n",
    "```\n",
    "Input : x = 2\n",
    "Output : 3.00099 (This should be a number infinitely close to 3)\n",
    "```"
   ]
  },
  {
   "cell_type": "markdown",
   "metadata": {},
   "source": [
    "## 31.  Problem 4(Sen Li)\n",
    "Assuming that this year is 2015. Given a month and day, calculate how many days have passed in the year\n",
    "\n",
    "Example\n",
    "```\n",
    "Input : 1, 1\n",
    "Output : 1\n",
    "```\n",
    "\n",
    " "
   ]
  },
  {
   "cell_type": "markdown",
   "metadata": {},
   "source": []
  },
  {
   "cell_type": "markdown",
   "metadata": {},
   "source": [
    "## 32. If we print two strings simultaneously, there is a space between them.\n",
    "\n",
    "   ```python\n",
    "   >>> print(\"hello\", \"world\")\n",
    "   hello world\n",
    "   ```\n",
    "\n",
    "    Make a little change to the above program to convert the space into an ampersand '&'. \n",
    "\n",
    "   ```python\n",
    "   >>> print(XXXXXXXXXXX)\n",
    "   hello&world\n",
    "   ```\n",
    "\n",
    "   Notations:\n",
    "   * If you don't know how to do it, use the code  `help(print)` to get some idea. \n",
    "   * Don't write `print(\"hello\"+\"&\"+\"world\")` or other similar solutions.\n",
    "   * You should use only one command."
   ]
  },
  {
   "cell_type": "markdown",
   "metadata": {},
   "source": [
    "## 33. Write a function with two parts:\n",
    "\n",
    "   * The argument of this function is a character which can be found in ASCII table. Calculate its ASCII code and let it mod 10.\n",
    "   * Use the new value to decrease the number of decimal places of $\\pi$. This value is the decimal places of the new $\\pi$. Return the new $\\pi$.\n",
    "\n",
    "   For example, for character '+', its ASCII code is 43, and the answer when it mod 10 is 3. So the new $\\pi$ is 3.142 (rather than 3.141).\n",
    "\n",
    "   ```python\n",
    "   >>> print(asciiPi('+'))\n",
    "   3.142\n",
    "   >>> print(asciiPi('a'))\n",
    "   3.1415927\n",
    "   ```\n",
    "\n",
    "   Notations:\n",
    "\n",
    "   * You should use $\\pi$ from the module `math`.\n",
    "   * The return value of your function should be a 'float' rather than a 'str'.\n",
    "   * There are different solutions for decreasing the number of decimal places. Try to use \".format\" to solve it."
   ]
  },
  {
   "cell_type": "markdown",
   "metadata": {},
   "source": [
    "## 34. Solve equations:\n",
    "Given $a$, $b$, $c$, solve the equation $ax^2+bx+c=0$. It's guaranteed that $\\Delta \\ge 0$. The return value of function should be a string and it should be similar to the test case. The smaller root is in the left. The decimal places of all roots should be 3.\n",
    "\n",
    "   ```python\n",
    "   >>> print(eq(1, 4, 4))\n",
    "   x1 = -2.000, x2 = -2.000\n",
    "   >>> print(eq(1, 3, 2))\n",
    "   x1 = -1.000, x2 = -2.000\n",
    "   ```"
   ]
  },
  {
   "cell_type": "markdown",
   "metadata": {},
   "source": [
    "## 35. Write the output of these programs without the help of computer. \n",
    "Then run these programs to check if your result is correct.\n",
    "\n",
    "   ```python\n",
    "   print(\"{} and {}\".format(6, 3+2))\n",
    "   print(\"{0} and {1}\".format(6, 3+2))\n",
    "   print(\"{1} and {0}\".format(6, 3+2))\n",
    "   print(\"{1} and {1}\".format(6, 3+2))\n",
    "   print(\"{:<10}{:>10}\".format(\"aaa\",\"bbb\"))\n",
    "   print(\"{:0<10}{:1>10}\".format(\"aaa\",\"bbb\"))\n",
    "   print(\"{0:<10}{1:>10}\".format(\"aaa\",\"bbb\"))\n",
    "   print(\"{0:7.3f}\".format(3.141592653589793))\n",
    "   print(\"{:.0f}\".format(3.7))\n",
    "   print(\"{0} and {{0}}\".format(\"hello\"))\n",
    "   ```"
   ]
  }
 ],
 "metadata": {
  "kernelspec": {
   "display_name": "Python 3.10.7 64-bit",
   "language": "python",
   "name": "python3"
  },
  "language_info": {
   "codemirror_mode": {
    "name": "ipython",
    "version": 3
   },
   "file_extension": ".py",
   "mimetype": "text/x-python",
   "name": "python",
   "nbconvert_exporter": "python",
   "pygments_lexer": "ipython3",
   "version": "3.10.7"
  },
  "vscode": {
   "interpreter": {
    "hash": "26de051ba29f2982a8de78e945f0abaf191376122a1563185a90213a26c5da77"
   }
  }
 },
 "nbformat": 4,
 "nbformat_minor": 4
}
