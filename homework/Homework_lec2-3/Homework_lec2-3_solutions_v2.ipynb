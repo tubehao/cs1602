{
 "cells": [
  {
   "cell_type": "markdown",
   "metadata": {},
   "source": [
    "### 1. Contain Square"
   ]
  },
  {
   "cell_type": "code",
   "execution_count": 3,
   "metadata": {},
   "outputs": [],
   "source": [
    "def count_square(l, w, a):\n",
    "    return (l // a) * (w // a) "
   ]
  },
  {
   "cell_type": "markdown",
   "metadata": {},
   "source": [
    "### 2. Swap Numbers"
   ]
  },
  {
   "cell_type": "code",
   "execution_count": 3,
   "metadata": {},
   "outputs": [],
   "source": [
    "def swap_numbers(a, b):\n",
    "    a = a + b\n",
    "    b = a - b\n",
    "    a = a - b\n",
    "    return a, b"
   ]
  },
  {
   "cell_type": "markdown",
   "metadata": {},
   "source": [
    "### 3. Output Digit"
   ]
  },
  {
   "cell_type": "code",
   "execution_count": 3,
   "metadata": {},
   "outputs": [],
   "source": [
    "def output_digit(n, i):\n",
    "    print(str(n)[i])\n",
    "\n",
    "output_digit(1291321839, 4)"
   ]
  },
  {
   "cell_type": "markdown",
   "metadata": {},
   "source": [
    "### 4. Even or Not"
   ]
  },
  {
   "cell_type": "code",
   "execution_count": 4,
   "metadata": {},
   "outputs": [],
   "source": [
    "def even_or_not(n):\n",
    "    str_n = str(n)\n",
    "    last_character = str_n[-1]\n",
    "    int_last_character = int(last_character)\n",
    "    return int_last_character % 2 == 0"
   ]
  },
  {
   "cell_type": "markdown",
   "metadata": {},
   "source": [
    "### 5. Digit Swap"
   ]
  },
  {
   "cell_type": "code",
   "execution_count": 3,
   "metadata": {},
   "outputs": [],
   "source": [
    "def swap_numbers(T, i, j):\n",
    "    list_t = list(T)\n",
    "    list_t[i], list_t[j] = list_t[j], list_t[i]\n",
    "    return \"\".join(list_t)"
   ]
  },
  {
   "cell_type": "markdown",
   "metadata": {},
   "source": [
    "### 6. Reverse String"
   ]
  },
  {
   "cell_type": "code",
   "execution_count": 5,
   "metadata": {},
   "outputs": [],
   "source": [
    "def reverse_str(s):\n",
    "    return s[::-1]"
   ]
  },
  {
   "cell_type": "markdown",
   "metadata": {},
   "source": [
    "### 7. Add Octal"
   ]
  },
  {
   "cell_type": "code",
   "execution_count": 8,
   "metadata": {},
   "outputs": [],
   "source": [
    "def add_octal(s1, s2):\n",
    "    num1 = int(s1, 8)\n",
    "    num2 = int(s2, 8)\n",
    "    added = num1 + num2\n",
    "    return oct(added)[2:]"
   ]
  },
  {
   "cell_type": "code",
   "execution_count": 11,
   "metadata": {},
   "outputs": [],
   "source": [
    "assert (add_octal(\"16\", \"3\")) == \"21\""
   ]
  },
  {
   "cell_type": "markdown",
   "metadata": {},
   "source": [
    "### 7. Add Octal"
   ]
  },
  {
   "cell_type": "code",
   "execution_count": 8,
   "metadata": {},
   "outputs": [],
   "source": [
    "def add_octal(s1, s2):\n",
    "    num1 = int(s1, 8)\n",
    "    num2 = int(s2, 8)\n",
    "    added = num1 + num2\n",
    "    return oct(added)[2:]"
   ]
  },
  {
   "cell_type": "code",
   "execution_count": 11,
   "metadata": {},
   "outputs": [],
   "source": [
    "assert (add_octal(\"16\", \"3\")) == \"21\""
   ]
  },
  {
   "cell_type": "markdown",
   "metadata": {},
   "source": [
    "### 8. Modify the Sentence"
   ]
  },
  {
   "cell_type": "code",
   "execution_count": 16,
   "metadata": {},
   "outputs": [],
   "source": [
    "def modify_sentence(s):\n",
    "    word_list = s.split()\n",
    "    return \" \".join(word_list)"
   ]
  },
  {
   "cell_type": "markdown",
   "metadata": {},
   "source": [
    "### 9. Bit Inverse"
   ]
  },
  {
   "cell_type": "code",
   "execution_count": 25,
   "metadata": {},
   "outputs": [],
   "source": [
    "def bit_inverse(n):\n",
    "    str_n = bin(n)[2:]\n",
    "    len_str_n = len(str_n)\n",
    "    padded_str_n = \"0\" * (10 - len_str_n) + str_n\n",
    "    inverse_str_n = padded_str_n[::-1]\n",
    "    return int(inverse_str_n, 2)"
   ]
  },
  {
   "cell_type": "markdown",
   "metadata": {},
   "source": [
    "### 10. Get familar with Python 3's f-Strings（略）"
   ]
  },
  {
   "cell_type": "markdown",
   "metadata": {},
   "source": [
    "### 11. Float and Decimal（略）"
   ]
  },
  {
   "cell_type": "markdown",
   "metadata": {},
   "source": [
    "### 12. Remove the last One"
   ]
  },
  {
   "cell_type": "code",
   "execution_count": null,
   "metadata": {},
   "outputs": [],
   "source": [
    "def remove_last_one(N):\n",
    "    return N - (N & -N)"
   ]
  },
  {
   "cell_type": "markdown",
   "metadata": {},
   "source": [
    "### 13. Pyramid of Star"
   ]
  },
  {
   "cell_type": "code",
   "execution_count": 29,
   "metadata": {},
   "outputs": [
    {
     "name": "stdout",
     "output_type": "stream",
     "text": [
      "   *   \n",
      "  ***  \n",
      " ***** \n",
      "*******\n"
     ]
    }
   ],
   "source": [
    "print(\" \"* 3 + \"*\" + \" \" * 3)\n",
    "print(\" \"* 2 + \"*\" * 3 + \" \" * 2 )\n",
    "print(\" \" + \"*\" * 5 + \" \")\n",
    "print(\"*\" * 7)"
   ]
  },
  {
   "cell_type": "markdown",
   "metadata": {},
   "source": [
    "### 14. Distance of letters"
   ]
  },
  {
   "cell_type": "code",
   "execution_count": 31,
   "metadata": {},
   "outputs": [],
   "source": [
    "def distance_of_letter(ch1, ch2):\n",
    "    return abs(ord(ch1) - ord(ch2))"
   ]
  },
  {
   "cell_type": "markdown",
   "metadata": {},
   "source": [
    "### 15. Character Distance"
   ]
  },
  {
   "cell_type": "code",
   "execution_count": null,
   "metadata": {},
   "outputs": [],
   "source": [
    "def character_distance(c1,c2):\n",
    "    flag = (c1.isnumeric() and c2.isnumeric())  or (c1.islower() and c2.islower()) or(c1.isupper() and c2.isupper())\n",
    "    return flag and abs(ord(c1) - ord(c2))"
   ]
  },
  {
   "cell_type": "markdown",
   "metadata": {},
   "source": [
    "### 16. Float Split"
   ]
  },
  {
   "cell_type": "code",
   "execution_count": 67,
   "metadata": {},
   "outputs": [],
   "source": [
    "import math\n",
    "def split_float(x):\n",
    "    p = math.floor(x)\n",
    "    q = x - p\n",
    "    return (p, q)"
   ]
  },
  {
   "cell_type": "markdown",
   "metadata": {},
   "source": [
    "### 17. Leap Year "
   ]
  },
  {
   "cell_type": "code",
   "execution_count": 36,
   "metadata": {},
   "outputs": [],
   "source": [
    "def leap_year(year):\n",
    "    return year % 4 == 0 and year % 100 != 0 or year % 400 == 0"
   ]
  },
  {
   "cell_type": "markdown",
   "metadata": {},
   "source": [
    "### 18. Number of digits"
   ]
  },
  {
   "cell_type": "code",
   "execution_count": 38,
   "metadata": {},
   "outputs": [],
   "source": [
    "def number_of_digits(num):\n",
    "    return len(bin(num)) - 2"
   ]
  },
  {
   "cell_type": "markdown",
   "metadata": {},
   "source": [
    "### 19. Midsquare"
   ]
  },
  {
   "cell_type": "code",
   "execution_count": 40,
   "metadata": {},
   "outputs": [],
   "source": [
    "import math\n",
    "def Midquare(n):\n",
    "    s = (int(math.log10(n)) + 1) // 2\n",
    "    return (n ** 2) // (10 ** s) % (10 ** (s + s))"
   ]
  },
  {
   "cell_type": "markdown",
   "metadata": {},
   "source": [
    "### 20.Chicks and Rabbits "
   ]
  },
  {
   "cell_type": "code",
   "execution_count": 42,
   "metadata": {},
   "outputs": [],
   "source": [
    "def chicks_and_rabbits(x, y):\n",
    "    return (4 * x - y) // 2"
   ]
  },
  {
   "cell_type": "markdown",
   "metadata": {},
   "source": [
    "### 21. Consecutive 6"
   ]
  },
  {
   "cell_type": "code",
   "execution_count": 68,
   "metadata": {},
   "outputs": [],
   "source": [
    "def consecutive_6():\n",
    "    p = 1 / 6\n",
    "    return p * p * 2 + p * p * p * 1"
   ]
  },
  {
   "cell_type": "markdown",
   "metadata": {},
   "source": [
    "### 22. Euler"
   ]
  },
  {
   "cell_type": "code",
   "execution_count": null,
   "metadata": {},
   "outputs": [],
   "source": [
    "import math\n",
    "def Euler(x):\n",
    "    return \"{:.3f} + {:.3f} * i\".format(math.cos(x), math.sin(x))"
   ]
  },
  {
   "cell_type": "markdown",
   "metadata": {},
   "source": [
    "### 23. Form Triangle"
   ]
  },
  {
   "cell_type": "code",
   "execution_count": 46,
   "metadata": {},
   "outputs": [],
   "source": [
    "def form_triangle(l1,l2,l3):\n",
    "    return (l1 + l2 > l3 and l1 + l3 > l2 and l2 + l3 > l1)"
   ]
  },
  {
   "cell_type": "markdown",
   "metadata": {},
   "source": [
    "### 24.Area of Triangle"
   ]
  },
  {
   "cell_type": "code",
   "execution_count": 49,
   "metadata": {},
   "outputs": [],
   "source": [
    "import math\n",
    "\n",
    "def area_triangle(l1,l2,l3):\n",
    "    p = (l1 + l2 + l3) / 2\n",
    "    return math.sqrt(p*(p-l1)*(p-l2)*(p-l3))"
   ]
  },
  {
   "cell_type": "markdown",
   "metadata": {},
   "source": [
    "### 25. Area of Triangle"
   ]
  },
  {
   "cell_type": "code",
   "execution_count": 51,
   "metadata": {},
   "outputs": [],
   "source": [
    "def area_of_triangle(x1, y1, x2, y2, x3, y3):\n",
    "    xt1, yt1 = x2 - x1, y2 - y1\n",
    "    xt2, yt2 = x3 - x1, y3 - y1\n",
    "    return abs((xt1 * yt2) - (xt2 * yt1)) / 2"
   ]
  },
  {
   "cell_type": "markdown",
   "metadata": {},
   "source": [
    "### 26. Square root of a positive number（略）"
   ]
  },
  {
   "cell_type": "markdown",
   "metadata": {},
   "source": [
    "### 27. Alternate Case String"
   ]
  },
  {
   "cell_type": "code",
   "execution_count": 54,
   "metadata": {},
   "outputs": [],
   "source": [
    "def alternate_case_string(s):\n",
    "    return s[0].upper() + s[1].lower() + s[2].upper() + s[3].lower() + s[4].upper()"
   ]
  },
  {
   "cell_type": "markdown",
   "metadata": {},
   "source": [
    "### 28. Problem 1"
   ]
  },
  {
   "cell_type": "code",
   "execution_count": 57,
   "metadata": {},
   "outputs": [],
   "source": [
    "def problem1(r, theta):\n",
    "    return math.cos(r * math.cos(theta)), math.sin(r * math.sin(theta))"
   ]
  },
  {
   "cell_type": "markdown",
   "metadata": {},
   "source": [
    "### 29. Problem 2"
   ]
  },
  {
   "cell_type": "code",
   "execution_count": 59,
   "metadata": {},
   "outputs": [],
   "source": [
    "def problem2(arr, i, j):\n",
    "    arr[i], arr[j] = arr[j], arr[i]\n",
    "    return arr"
   ]
  },
  {
   "cell_type": "markdown",
   "metadata": {},
   "source": [
    "### 30. Problem3"
   ]
  },
  {
   "cell_type": "code",
   "execution_count": 61,
   "metadata": {},
   "outputs": [],
   "source": [
    "def f(x):\n",
    "    return x * x - x\n",
    "\n",
    "def problem3(x):\n",
    "    delta_x = 0.00001\n",
    "    delta_y = f(x + delta) - f(x)\n",
    "    return delta_y / delta_x"
   ]
  },
  {
   "cell_type": "markdown",
   "metadata": {},
   "source": [
    "### 31. Problem4"
   ]
  },
  {
   "cell_type": "code",
   "execution_count": null,
   "metadata": {},
   "outputs": [],
   "source": []
  },
  {
   "cell_type": "markdown",
   "metadata": {},
   "source": [
    "### 32-35"
   ]
  },
  {
   "cell_type": "code",
   "execution_count": 4,
   "metadata": {},
   "outputs": [
    {
     "name": "stdout",
     "output_type": "stream",
     "text": [
      "hello&world\n"
     ]
    }
   ],
   "source": [
    "# 1\n",
    "print(\"hello\", \"world\", sep=\"&\")"
   ]
  },
  {
   "cell_type": "code",
   "execution_count": 5,
   "metadata": {},
   "outputs": [],
   "source": [
    "# 2\n",
    "from math import pi\n",
    "def asciiPi(ch):\n",
    "    asc = ord(ch)\n",
    "    asc %= 10\n",
    "    s = \"{0:.{1}f}\".format(pi, asc)\n",
    "    return float(s)\n",
    "\n",
    "# another solution\n",
    "\n",
    "from math import pi\n",
    "def asciiPi(ch):\n",
    "    asc = ord(ch)\n",
    "    asc %= 10\n",
    "    return round(pi, asc)"
   ]
  },
  {
   "cell_type": "code",
   "execution_count": 11,
   "metadata": {},
   "outputs": [],
   "source": [
    "# 3\n",
    "import math\n",
    "def eq(a, b, c):\n",
    "    delta = b * b - 4 * a * c\n",
    "    x1 = (-b + math.sqrt(delta)) / 2 / a\n",
    "    x2 = (-b - math.sqrt(delta)) / 2 / a\n",
    "    return \"x1 = {:.3f}, x2 = {:.3f}\".format(x1, x2)"
   ]
  },
  {
   "cell_type": "code",
   "execution_count": 6,
   "metadata": {},
   "outputs": [],
   "source": [
    "# 4 略"
   ]
  }
 ],
 "metadata": {
  "kernelspec": {
   "display_name": "Python 3",
   "language": "python",
   "name": "python3"
  },
  "language_info": {
   "codemirror_mode": {
    "name": "ipython",
    "version": 3
   },
   "file_extension": ".py",
   "mimetype": "text/x-python",
   "name": "python",
   "nbconvert_exporter": "python",
   "pygments_lexer": "ipython3",
   "version": "3.8.5"
  }
 },
 "nbformat": 4,
 "nbformat_minor": 4
}