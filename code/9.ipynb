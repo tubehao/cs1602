{
 "metadata": {
  "language_info": {
   "codemirror_mode": {
    "name": "ipython",
    "version": 3
   },
   "file_extension": ".py",
   "mimetype": "text/x-python",
   "name": "python",
   "nbconvert_exporter": "python",
   "pygments_lexer": "ipython3",
   "version": "3.8.5-final"
  },
  "orig_nbformat": 2,
  "kernelspec": {
   "name": "python38564bit8813796d4c5a41bea950bbfe0c84643b",
   "display_name": "Python 3.8.5 64-bit"
  }
 },
 "nbformat": 4,
 "nbformat_minor": 2,
 "cells": [
  {
   "cell_type": "code",
   "execution_count": 9,
   "metadata": {},
   "outputs": [],
   "source": [
    "import b\n"
   ]
  },
  {
   "cell_type": "code",
   "execution_count": 10,
   "metadata": {},
   "outputs": [
    {
     "output_type": "stream",
     "name": "stdout",
     "text": [
      "Test spam\n"
     ]
    }
   ],
   "source": [
    "b.spam(\"Test\")"
   ]
  },
  {
   "cell_type": "code",
   "execution_count": 11,
   "metadata": {},
   "outputs": [
    {
     "output_type": "stream",
     "name": "stdout",
     "text": [
      "my_geometry.Triangle: 6, 7, 8\nmy_geometry\n"
     ]
    }
   ],
   "source": [
    "import my_geometry\n",
    "tt = my_geometry.Triangle(6,7,8)\n",
    "tt.print()\n",
    "print(my_geometry.__name__)"
   ]
  },
  {
   "source": [
    "#\n",
    "'''print(\"Enter module1.py\")  # module1.py\n",
    "\n",
    "name = \"SJTU\"\n",
    "\n",
    "def printer(x):\n",
    "    print(x)\n",
    "\n",
    "print(name)\n",
    "print(\"Exit module1.py\")\n",
    "\n",
    "if __name__ == \"__main__\":\n",
    "    print(\"module1 main\")\n",
    "''' "
   ],
   "cell_type": "code",
   "metadata": {},
   "execution_count": null,
   "outputs": []
  },
  {
   "cell_type": "code",
   "execution_count": 12,
   "metadata": {},
   "outputs": [
    {
     "output_type": "stream",
     "name": "stdout",
     "text": [
      "Enter module1.py\nSJTU\nExit module1.py\n[1, 2, 4]\n"
     ]
    }
   ],
   "source": [
    "import module1\n",
    "module1.printer([1, 2, 4])"
   ]
  },
  {
   "cell_type": "code",
   "execution_count": 14,
   "metadata": {},
   "outputs": [
    {
     "output_type": "stream",
     "name": "stdout",
     "text": [
      "hello\n1\n2\n"
     ]
    }
   ],
   "source": [
    "#print('hello') # File simple.py\n",
    "#spam = 1\n",
    "import simple\n",
    "print(simple.spam)\n",
    "\n",
    "simple.spam = 2\n",
    "\n",
    "import simple\n",
    "print(simple.spam)\n"
   ]
  },
  {
   "cell_type": "code",
   "execution_count": 15,
   "metadata": {},
   "outputs": [
    {
     "output_type": "stream",
     "name": "stdout",
     "text": [
      "[1, 2, 4]\n"
     ]
    }
   ],
   "source": [
    "import module1\n",
    "module1.printer([1, 2, 4])\n"
   ]
  },
  {
   "cell_type": "code",
   "execution_count": 16,
   "metadata": {},
   "outputs": [
    {
     "output_type": "stream",
     "name": "stdout",
     "text": [
      "Enter module1.py\nSJTU\nExit module1.py\nmodule1 main\n"
     ]
    }
   ],
   "source": [
    "print(\"Enter module1.py\")  # module1.py\n",
    "\n",
    "name = \"SJTU\"\n",
    "\n",
    "def printer(x):\n",
    "    print(x)\n",
    "\n",
    "print(name)\n",
    "print(\"Exit module1.py\")\n",
    "\n",
    "if __name__ == \"__main__\":\n",
    "    print(\"module1 main\")\n"
   ]
  },
  {
   "cell_type": "code",
   "execution_count": null,
   "metadata": {},
   "outputs": [],
   "source": []
  }
 ]
}