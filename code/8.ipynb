{
 "cells": [
  {
   "cell_type": "markdown",
   "metadata": {},
   "source": [
    "# 多继承\n",
    "A, B是两个class，C可以同时继承A, B"
   ]
  },
  {
   "cell_type": "code",
   "execution_count": 14,
   "metadata": {},
   "outputs": [
    {
     "name": "stdout",
     "output_type": "stream",
     "text": [
      "A B C\n"
     ]
    }
   ],
   "source": [
    "class A:\n",
    "\tattrA = \"A\"\n",
    "\n",
    "class B:\n",
    "\tattrB = \"B\"\n",
    "\n",
    "class C(A, B):\n",
    "\tattrC = \"C\"\n",
    "\n",
    "x = C()\n",
    "print(x.attrA, x.attrB, x.attrC)"
   ]
  },
  {
   "cell_type": "markdown",
   "metadata": {},
   "source": [
    "A3 同时继承A1, A2, 有共同的属性attr"
   ]
  },
  {
   "cell_type": "code",
   "execution_count": 15,
   "metadata": {},
   "outputs": [
    {
     "name": "stdout",
     "output_type": "stream",
     "text": [
      "A3\n"
     ]
    }
   ],
   "source": [
    "class A1:\n",
    "\tattr = \"A1\"\n",
    "\n",
    "class A2:\n",
    "\tattr = \"A2\"\n",
    "\n",
    "class A3(A1, A2):\n",
    "\tattr = \"A3\"\n",
    "\n",
    "x = A3()\n",
    "print(x.attr)"
   ]
  },
  {
   "cell_type": "markdown",
   "metadata": {},
   "source": [
    "B,C 继承A; D继承B, C."
   ]
  },
  {
   "cell_type": "code",
   "execution_count": 16,
   "metadata": {},
   "outputs": [
    {
     "name": "stdout",
     "output_type": "stream",
     "text": [
      "B\n"
     ]
    }
   ],
   "source": [
    "class A:\n",
    "\tattr = \"A\"\n",
    "\n",
    "class B(A):\n",
    "\tattr = \"B\"\n",
    "\n",
    "class C(A):\n",
    "\tattr = \"C\"\n",
    "\n",
    "class D(B, C):\n",
    "\tpass\n",
    "\n",
    "x = D()\n",
    "print(x.attr)"
   ]
  },
  {
   "cell_type": "markdown",
   "metadata": {},
   "source": [
    "B,C 继承A; D继承C, B(不是B, C)."
   ]
  },
  {
   "cell_type": "code",
   "execution_count": 17,
   "metadata": {},
   "outputs": [
    {
     "name": "stdout",
     "output_type": "stream",
     "text": [
      "C\n"
     ]
    }
   ],
   "source": [
    "class A:\n",
    "\tattr = \"A\"\n",
    "\n",
    "class B(A):\n",
    "\tattr = \"B\"\n",
    "\n",
    "class C(A):\n",
    "\tattr = \"C\"\n",
    "\n",
    "class D(C, B):\n",
    "\tpass\n",
    "\n",
    "x = D()\n",
    "print(x.attr)"
   ]
  },
  {
   "cell_type": "markdown",
   "metadata": {},
   "source": [
    "# repr() and str()"
   ]
  },
  {
   "cell_type": "code",
   "execution_count": 18,
   "metadata": {},
   "outputs": [
    {
     "name": "stdout",
     "output_type": "stream",
     "text": [
      "Hello world 'Hello world'\n",
      "0.18181818181818182 0.18181818181818182\n",
      "2020-11-09 15:50:56.872299\n",
      "datetime.datetime(2020, 11, 9, 15, 50, 56, 872299)\n"
     ]
    }
   ],
   "source": [
    "s = \"Hello world\"\n",
    "print(str(s), repr(s))\n",
    "\n",
    "print(2.0/11.0, repr(2.0/11.0))\n",
    "\n",
    "import datetime \n",
    "today = datetime.datetime.now() \n",
    "\n",
    "print(str(today)) \n",
    "print(repr(today))\n"
   ]
  },
  {
   "cell_type": "code",
   "execution_count": null,
   "metadata": {},
   "outputs": [],
   "source": []
  }
 ],
 "metadata": {
  "kernelspec": {
   "display_name": "Python 3.10.7 64-bit",
   "language": "python",
   "name": "python3"
  },
  "language_info": {
   "codemirror_mode": {
    "name": "ipython",
    "version": 3
   },
   "file_extension": ".py",
   "mimetype": "text/x-python",
   "name": "python",
   "nbconvert_exporter": "python",
   "pygments_lexer": "ipython3",
   "version": "3.10.7"
  },
  "orig_nbformat": 2,
  "vscode": {
   "interpreter": {
    "hash": "26de051ba29f2982a8de78e945f0abaf191376122a1563185a90213a26c5da77"
   }
  }
 },
 "nbformat": 4,
 "nbformat_minor": 2
}
